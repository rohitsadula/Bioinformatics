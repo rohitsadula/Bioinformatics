{
  "nbformat": 4,
  "nbformat_minor": 0,
  "metadata": {
    "colab": {
      "name": "Practical7_RegularExp.ipynb",
      "provenance": [],
      "include_colab_link": true
    },
    "kernelspec": {
      "name": "python3",
      "display_name": "Python 3"
    },
    "language_info": {
      "name": "python"
    }
  },
  "cells": [
    {
      "cell_type": "markdown",
      "metadata": {
        "id": "view-in-github",
        "colab_type": "text"
      },
      "source": [
        "<a href=\"https://colab.research.google.com/github/rohitsadula/Bioinformatics/blob/main/Practical7_RegularExp.ipynb\" target=\"_parent\"><img src=\"https://colab.research.google.com/assets/colab-badge.svg\" alt=\"Open In Colab\"/></a>"
      ]
    },
    {
      "cell_type": "code",
      "metadata": {
        "colab": {
          "base_uri": "https://localhost:8080/"
        },
        "id": "djd1olpOhPaU",
        "outputId": "28970743-d2a3-4c57-8510-ae3160219af7"
      },
      "source": [
        "def gen_reg_exp(seq_list, no_of_col):\n",
        "  final_list=[]\n",
        "  for colnum in range(no_of_col):\n",
        "    collist=[]\n",
        "    for colseq in seq_list:\n",
        "      collist.append(colseq[colnum])\n",
        "    if len(set(collist))==len(collist):\n",
        "      #print(final_list)\n",
        "      final_list.append('x')\n",
        "    else:\n",
        "      if len(set(collist))==1:\n",
        "        final_list.append(collist[0])\n",
        "      else:\n",
        "        final_list.append(''.join(set(collist)))\n",
        "  display_output(final_list)\n",
        "def display_output(final_list):\n",
        "  print(final_list, sep='-')\n",
        "no_of_seq=int(input(\"Enter the number of sequence: \"))\n",
        "print(\"Enter all the sequences\")\n",
        "seq_list=[]\n",
        "for _ in range(no_of_seq):\n",
        "  seq_list.append(list(map(str, input(\"\").split())))\n",
        "gen_reg_exp(seq_list, len(seq_list[0])) \n"
      ],
      "execution_count": null,
      "outputs": [
        {
          "output_type": "stream",
          "name": "stdout",
          "text": [
            "Enter the number of sequence: 4\n",
            "Enter all the sequences\n",
            "A G T A G G A G C T A\n",
            "G T C A G T C A G C A\n",
            "T C A  A G T A C G T A \n",
            "G T A C G T A C G T A C\n",
            "['TAG', 'TGC', 'TAC', 'AC', 'G', 'TG', 'AC', 'AGC', 'CG', 'TC', 'A']\n"
          ]
        }
      ]
    }
  ]
}