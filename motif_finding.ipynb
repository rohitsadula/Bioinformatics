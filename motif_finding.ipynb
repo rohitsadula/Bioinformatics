{
  "nbformat": 4,
  "nbformat_minor": 0,
  "metadata": {
    "colab": {
      "name": "motif finding.ipynb",
      "provenance": [],
      "authorship_tag": "ABX9TyP8YesQYF0Ie3vrAg/Z1ai6",
      "include_colab_link": true
    },
    "kernelspec": {
      "name": "python3",
      "display_name": "Python 3"
    },
    "language_info": {
      "name": "python"
    }
  },
  "cells": [
    {
      "cell_type": "markdown",
      "metadata": {
        "id": "view-in-github",
        "colab_type": "text"
      },
      "source": [
        "<a href=\"https://colab.research.google.com/github/rohitsadula/Bioinformatics/blob/main/motif_finding.ipynb\" target=\"_parent\"><img src=\"https://colab.research.google.com/assets/colab-badge.svg\" alt=\"Open In Colab\"/></a>"
      ]
    },
    {
      "cell_type": "code",
      "execution_count": 1,
      "metadata": {
        "colab": {
          "base_uri": "https://localhost:8080/"
        },
        "id": "Ah_mQSx15GrV",
        "outputId": "7e196a22-6b5c-4b88-af01-29b28f66825a"
      },
      "outputs": [
        {
          "output_type": "stream",
          "name": "stdout",
          "text": [
            "Enter Motif : ATTGCAT\n",
            "Enter Sequence : CGTAATCGTATTGCATTGACGTACATGATTGCATTTGCAACTGACGTATTGCAT\n",
            "Motif : ATTGCAT\n",
            "Sequence : CGTAATCGTATTGCATTGACGTACATGATTGCATTTGCAACTGACGTATTGCAT\n",
            "[9, 27, 47]\n"
          ]
        }
      ],
      "source": [
        "def BruteForce(s, m):\n",
        "    occurrences = []\n",
        "    for i in range(len(s)-len(m)+1): # loop over alignment\n",
        "        match = True\n",
        "        for j in range(len(m)): # loop over characters\n",
        "            if s[i+j] != m[j]:  # compare characters\n",
        "                match = False   # mismatch\n",
        "                break\n",
        "        if match:   # allchars matched\n",
        "            occurrences.append(i)\n",
        "\n",
        "    print(\"Motif : \" +m)\n",
        "    print(\"Sequence : \" +s)\n",
        "    print(occurrences) \n",
        "\n",
        "m = input(\"Enter Motif : \")\n",
        "\n",
        "\n",
        "s = input(\"Enter Sequence : \")\n",
        "\n",
        "BruteForce(s, m)"
      ]
    }
  ]
}